{
 "cells": [
  {
   "cell_type": "code",
   "execution_count": 5,
   "metadata": {},
   "outputs": [
    {
     "name": "stdout",
     "output_type": "stream",
     "text": [
      "['TimeStamp', 'Time Zone', 'Name', 'PTID', 'Load', 'Temp', 'DewPoint']\n"
     ]
    }
   ],
   "source": [
    "#Task 6 - Merge two datasets on the Time Stamp field\n",
    "import pandas as pd\n",
    "a = pd.read_csv(\"LoadData.csv\")#load file 1\n",
    "b = pd.read_csv(\"WeatherData.csv\") #load file 2\n",
    "merged = a.merge(b, on=\"TimeStamp\")\n",
    "merged.to_csv(\"merged.csv\",index=False)\n",
    "\n",
    "import csv\n",
    "f2 = open(\"merged.csv\", \"r\")\n",
    "l = csv.reader(f2)\n",
    "m = next(l)\n",
    "f2.close()\n",
    "print (m)\n"
   ]
  },
  {
   "cell_type": "code",
   "execution_count": null,
   "metadata": {},
   "outputs": [],
   "source": []
  },
  {
   "cell_type": "code",
   "execution_count": null,
   "metadata": {
    "collapsed": true
   },
   "outputs": [],
   "source": []
  }
 ],
 "metadata": {
  "kernelspec": {
   "display_name": "Python 3",
   "language": "python",
   "name": "python3"
  },
  "language_info": {
   "codemirror_mode": {
    "name": "ipython",
    "version": 3
   },
   "file_extension": ".py",
   "mimetype": "text/x-python",
   "name": "python",
   "nbconvert_exporter": "python",
   "pygments_lexer": "ipython3",
   "version": "3.6.1"
  }
 },
 "nbformat": 4,
 "nbformat_minor": 2
}

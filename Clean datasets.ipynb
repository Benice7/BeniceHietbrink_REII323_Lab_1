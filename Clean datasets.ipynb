{
 "cells": [
  {
   "cell_type": "code",
   "execution_count": 1,
   "metadata": {},
   "outputs": [
    {
     "name": "stdout",
     "output_type": "stream",
     "text": [
      "['Time Stamp,\"Time Zone\",\"Name\",\"PTID\",\"Load\"']\n",
      "['01/01/2004 00:00:00,\"EST\",\"CAPITL\",61757,1015']\n",
      "['01/01/2004 00:00:00,\"EST\",\"CENTRL\",61754,1651']\n",
      "['01/01/2004 00:00:00,\"EST\",\"DUNWOD\",61760,618']\n",
      "['01/01/2004 00:00:00,\"EST\",\"GENESE\",61753,972']\n"
     ]
    }
   ],
   "source": [
    "#Task 7 - Remove duplicates\n",
    "# all duplicates are removed when repeated other duplicants can be as from events  \n",
    "import pandas as pd\n",
    "a = pd.read_csv(\"duplicate.csv\") # readinput file\n",
    "a.drop_duplicates(subset=None, inplace=True) # remove duplicates\n",
    "a.to_csv(\"noduplicates.csv\", index=False) # write to new file\n",
    "\n",
    "#read and display few rows\n",
    "import csv\n",
    "filename = \"noduplicates.csv\"\n",
    "f= open(filename,\"r\")\n",
    "c= csv.reader(f)\n",
    "for i in range(5):\n",
    "    j=next(c)\n",
    "    print (j)"
   ]
  },
  {
   "cell_type": "code",
   "execution_count": null,
   "metadata": {},
   "outputs": [],
   "source": [
    "#Task 8 and 9 - Clean messy dataset\n",
    "#Task 8 - irregular spacing\n",
    "\n",
    "#Not sure how to fix this - will need to read up. Time to complete this is not much\n",
    "#Therefore will come back to this task\n",
    "\n",
    "#Task 9 - Data formatting\n",
    "import pandas as pd\n",
    "b = pd.read_csv(\"messy.csv\") # read input file\n",
    "b.fillna(0) #null replaced with a value of 0\n",
    "#replace ; with , need to read as string and not dataframe\n",
    "b['Name']=b['Name'].str.upper() # make all uppercase ... not working\n",
    "b.to_csv(\"noNull_fixedcomma.csv\", index=False) # write to new file\n",
    "\n",
    "#this needs to be researched and practiced more. Maybe trying this rather with lines other than pandas dataframes "
   ]
  },
  {
   "cell_type": "code",
   "execution_count": null,
   "metadata": {
    "collapsed": true
   },
   "outputs": [],
   "source": []
  }
 ],
 "metadata": {
  "kernelspec": {
   "display_name": "Python 3",
   "language": "python",
   "name": "python3"
  },
  "language_info": {
   "codemirror_mode": {
    "name": "ipython",
    "version": 3
   },
   "file_extension": ".py",
   "mimetype": "text/x-python",
   "name": "python",
   "nbconvert_exporter": "python",
   "pygments_lexer": "ipython3",
   "version": "3.6.1"
  }
 },
 "nbformat": 4,
 "nbformat_minor": 2
}
